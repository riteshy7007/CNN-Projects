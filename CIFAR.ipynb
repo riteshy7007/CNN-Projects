{
  "nbformat": 4,
  "nbformat_minor": 0,
  "metadata": {
    "colab": {
      "provenance": [],
      "gpuType": "V28",
      "authorship_tag": "ABX9TyORO3dwIth3Tr6XMvWN3pVt",
      "include_colab_link": true
    },
    "kernelspec": {
      "name": "python3",
      "display_name": "Python 3"
    },
    "language_info": {
      "name": "python"
    },
    "accelerator": "TPU"
  },
  "cells": [
    {
      "cell_type": "markdown",
      "metadata": {
        "id": "view-in-github",
        "colab_type": "text"
      },
      "source": [
        "<a href=\"https://colab.research.google.com/github/riteshy7007/CNN-Projects/blob/main/CIFAR.ipynb\" target=\"_parent\"><img src=\"https://colab.research.google.com/assets/colab-badge.svg\" alt=\"Open In Colab\"/></a>"
      ]
    },
    {
      "cell_type": "code",
      "execution_count": 1,
      "metadata": {
        "colab": {
          "base_uri": "https://localhost:8080/"
        },
        "id": "mObmazaeaLQB",
        "outputId": "bc533e4e-d3d8-409a-d07f-ab9db3eb1c93"
      },
      "outputs": [
        {
          "output_type": "stream",
          "name": "stdout",
          "text": [
            "Requirement already satisfied: kaggle in /usr/local/lib/python3.10/dist-packages (1.6.17)\n",
            "Requirement already satisfied: six>=1.10 in /usr/local/lib/python3.10/dist-packages (from kaggle) (1.16.0)\n",
            "Requirement already satisfied: certifi>=2023.7.22 in /usr/local/lib/python3.10/dist-packages (from kaggle) (2024.8.30)\n",
            "Requirement already satisfied: python-dateutil in /usr/local/lib/python3.10/dist-packages (from kaggle) (2.8.2)\n",
            "Requirement already satisfied: requests in /usr/local/lib/python3.10/dist-packages (from kaggle) (2.32.3)\n",
            "Requirement already satisfied: tqdm in /usr/local/lib/python3.10/dist-packages (from kaggle) (4.66.5)\n",
            "Requirement already satisfied: python-slugify in /usr/local/lib/python3.10/dist-packages (from kaggle) (8.0.4)\n",
            "Requirement already satisfied: urllib3 in /usr/local/lib/python3.10/dist-packages (from kaggle) (2.2.3)\n",
            "Requirement already satisfied: bleach in /usr/local/lib/python3.10/dist-packages (from kaggle) (6.1.0)\n",
            "Requirement already satisfied: webencodings in /usr/local/lib/python3.10/dist-packages (from bleach->kaggle) (0.5.1)\n",
            "Requirement already satisfied: text-unidecode>=1.3 in /usr/local/lib/python3.10/dist-packages (from python-slugify->kaggle) (1.3)\n",
            "Requirement already satisfied: charset-normalizer<4,>=2 in /usr/local/lib/python3.10/dist-packages (from requests->kaggle) (3.3.2)\n",
            "Requirement already satisfied: idna<4,>=2.5 in /usr/local/lib/python3.10/dist-packages (from requests->kaggle) (3.10)\n"
          ]
        }
      ],
      "source": [
        "!pip install kaggle\n"
      ]
    },
    {
      "cell_type": "code",
      "source": [
        "!mkdir -p ~/.kaggle\n",
        "!cp kaggle.json ~/.kaggle/\n",
        "!chmod 600 ~/.kaggle/kaggle.json"
      ],
      "metadata": {
        "id": "SE4DaAMHb-Ts"
      },
      "execution_count": 2,
      "outputs": []
    },
    {
      "cell_type": "code",
      "source": [
        "!kaggle competitions download -c cifar-10\n"
      ],
      "metadata": {
        "colab": {
          "base_uri": "https://localhost:8080/"
        },
        "id": "WdkU5OiPcRS6",
        "outputId": "2702c183-b7f1-4dd1-f7d5-7069f90de037"
      },
      "execution_count": 3,
      "outputs": [
        {
          "output_type": "stream",
          "name": "stdout",
          "text": [
            "Downloading cifar-10.zip to /content\n",
            "100% 715M/715M [00:10<00:00, 93.3MB/s]\n",
            "100% 715M/715M [00:10<00:00, 73.2MB/s]\n"
          ]
        }
      ]
    },
    {
      "cell_type": "code",
      "source": [
        "!ls\n"
      ],
      "metadata": {
        "colab": {
          "base_uri": "https://localhost:8080/"
        },
        "id": "Su0pyb0Vcs0s",
        "outputId": "df98df74-f391-42ef-cc4e-f59893c362ae"
      },
      "execution_count": 4,
      "outputs": [
        {
          "output_type": "stream",
          "name": "stdout",
          "text": [
            "cifar-10.zip  kaggle.json  sample_data\n"
          ]
        }
      ]
    },
    {
      "cell_type": "code",
      "source": [
        "from zipfile import ZipFile\n",
        "dataset = \"cifar-10.zip\"\n",
        "with ZipFile(dataset, 'r') as zip:\n",
        "  zip.extractall()\n",
        "  print('done')"
      ],
      "metadata": {
        "colab": {
          "base_uri": "https://localhost:8080/"
        },
        "id": "a5LNnA25cxwR",
        "outputId": "e0e2d21b-8dfc-4a46-f0e5-f025c5d9bab6"
      },
      "execution_count": 5,
      "outputs": [
        {
          "output_type": "stream",
          "name": "stdout",
          "text": [
            "done\n"
          ]
        }
      ]
    },
    {
      "cell_type": "code",
      "source": [
        "!ls\n"
      ],
      "metadata": {
        "colab": {
          "base_uri": "https://localhost:8080/"
        },
        "id": "dSpMRnb7dKbf",
        "outputId": "118ad510-dbb7-4121-cf8e-ecf1c23c2bdb"
      },
      "execution_count": 6,
      "outputs": [
        {
          "output_type": "stream",
          "name": "stdout",
          "text": [
            "cifar-10.zip  kaggle.json  sample_data\tsampleSubmission.csv  test.7z  train.7z  trainLabels.csv\n"
          ]
        }
      ]
    },
    {
      "cell_type": "code",
      "source": [
        "!pip install py7zr"
      ],
      "metadata": {
        "colab": {
          "base_uri": "https://localhost:8080/"
        },
        "id": "7M5rTlLwdS_z",
        "outputId": "e184a6b3-9de7-4073-f0ac-40f579fab4cb"
      },
      "execution_count": 7,
      "outputs": [
        {
          "output_type": "stream",
          "name": "stdout",
          "text": [
            "Requirement already satisfied: py7zr in /usr/local/lib/python3.10/dist-packages (0.22.0)\n",
            "Requirement already satisfied: texttable in /usr/local/lib/python3.10/dist-packages (from py7zr) (1.7.0)\n",
            "Requirement already satisfied: pycryptodomex>=3.16.0 in /usr/local/lib/python3.10/dist-packages (from py7zr) (3.20.0)\n",
            "Requirement already satisfied: pyzstd>=0.15.9 in /usr/local/lib/python3.10/dist-packages (from py7zr) (0.16.1)\n",
            "Requirement already satisfied: pyppmd<1.2.0,>=1.1.0 in /usr/local/lib/python3.10/dist-packages (from py7zr) (1.1.0)\n",
            "Requirement already satisfied: pybcj<1.1.0,>=1.0.0 in /usr/local/lib/python3.10/dist-packages (from py7zr) (1.0.2)\n",
            "Requirement already satisfied: multivolumefile>=0.2.3 in /usr/local/lib/python3.10/dist-packages (from py7zr) (0.2.3)\n",
            "Requirement already satisfied: inflate64<1.1.0,>=1.0.0 in /usr/local/lib/python3.10/dist-packages (from py7zr) (1.0.0)\n",
            "Requirement already satisfied: brotli>=1.1.0 in /usr/local/lib/python3.10/dist-packages (from py7zr) (1.1.0)\n",
            "Requirement already satisfied: psutil in /usr/local/lib/python3.10/dist-packages (from py7zr) (5.9.5)\n"
          ]
        }
      ]
    },
    {
      "cell_type": "code",
      "source": [
        "import py7zr\n",
        "archive = py7zr.SevenZipFile('train.7z', mode='r')\n",
        "archive.extractall()\n",
        "archive.close()"
      ],
      "metadata": {
        "id": "t9IMl2bTdaxw"
      },
      "execution_count": 8,
      "outputs": []
    },
    {
      "cell_type": "code",
      "source": [
        "import os\n",
        "import numpy as np\n",
        "import pandas as pd\n",
        "import matplotlib.pyplot as plt\n",
        "import matplotlib.image as mpimg\n",
        "from sklearn.model_selection import train_test_split"
      ],
      "metadata": {
        "id": "mE6YvBlBRf2z"
      },
      "execution_count": 9,
      "outputs": []
    },
    {
      "cell_type": "code",
      "source": [
        "filenames = os.listdir('train')"
      ],
      "metadata": {
        "id": "jpqUZfqJR6z6"
      },
      "execution_count": 10,
      "outputs": []
    },
    {
      "cell_type": "code",
      "source": [
        "len(filenames)"
      ],
      "metadata": {
        "colab": {
          "base_uri": "https://localhost:8080/"
        },
        "id": "NgbOqlMKSHiJ",
        "outputId": "b18e577d-7b32-41d5-cac1-e6a73b27d8ca"
      },
      "execution_count": 11,
      "outputs": [
        {
          "output_type": "execute_result",
          "data": {
            "text/plain": [
              "50000"
            ]
          },
          "metadata": {},
          "execution_count": 11
        }
      ]
    },
    {
      "cell_type": "code",
      "source": [
        "print(filenames[0:5])\n",
        "print(filenames[-5:])"
      ],
      "metadata": {
        "colab": {
          "base_uri": "https://localhost:8080/"
        },
        "id": "sDaG7TaASMqe",
        "outputId": "8a3376ab-7e2b-4b80-a1f3-a202b71532df"
      },
      "execution_count": 12,
      "outputs": [
        {
          "output_type": "stream",
          "name": "stdout",
          "text": [
            "['24507.png', '7698.png', '37346.png', '30584.png', '49163.png']\n",
            "['1566.png', '13846.png', '43340.png', '2894.png', '7941.png']\n"
          ]
        }
      ]
    },
    {
      "cell_type": "code",
      "source": [
        "labels_df = pd.read_csv('/content/trainLabels.csv')"
      ],
      "metadata": {
        "id": "rYA4kcDES-zD"
      },
      "execution_count": 13,
      "outputs": []
    },
    {
      "cell_type": "code",
      "source": [
        "labels_df.head(10)"
      ],
      "metadata": {
        "colab": {
          "base_uri": "https://localhost:8080/",
          "height": 363
        },
        "id": "pZXaHNe-3mDW",
        "outputId": "e78080bf-d9e7-4bb8-be93-cd2777f20ae6"
      },
      "execution_count": 23,
      "outputs": [
        {
          "output_type": "execute_result",
          "data": {
            "text/plain": [
              "   id       label\n",
              "0   1        frog\n",
              "1   2       truck\n",
              "2   3       truck\n",
              "3   4        deer\n",
              "4   5  automobile\n",
              "5   6  automobile\n",
              "6   7        bird\n",
              "7   8       horse\n",
              "8   9        ship\n",
              "9  10         cat"
            ],
            "text/html": [
              "\n",
              "  <div id=\"df-1a016552-8e11-469c-bae2-2c2dadd3fcee\" class=\"colab-df-container\">\n",
              "    <div>\n",
              "<style scoped>\n",
              "    .dataframe tbody tr th:only-of-type {\n",
              "        vertical-align: middle;\n",
              "    }\n",
              "\n",
              "    .dataframe tbody tr th {\n",
              "        vertical-align: top;\n",
              "    }\n",
              "\n",
              "    .dataframe thead th {\n",
              "        text-align: right;\n",
              "    }\n",
              "</style>\n",
              "<table border=\"1\" class=\"dataframe\">\n",
              "  <thead>\n",
              "    <tr style=\"text-align: right;\">\n",
              "      <th></th>\n",
              "      <th>id</th>\n",
              "      <th>label</th>\n",
              "    </tr>\n",
              "  </thead>\n",
              "  <tbody>\n",
              "    <tr>\n",
              "      <th>0</th>\n",
              "      <td>1</td>\n",
              "      <td>frog</td>\n",
              "    </tr>\n",
              "    <tr>\n",
              "      <th>1</th>\n",
              "      <td>2</td>\n",
              "      <td>truck</td>\n",
              "    </tr>\n",
              "    <tr>\n",
              "      <th>2</th>\n",
              "      <td>3</td>\n",
              "      <td>truck</td>\n",
              "    </tr>\n",
              "    <tr>\n",
              "      <th>3</th>\n",
              "      <td>4</td>\n",
              "      <td>deer</td>\n",
              "    </tr>\n",
              "    <tr>\n",
              "      <th>4</th>\n",
              "      <td>5</td>\n",
              "      <td>automobile</td>\n",
              "    </tr>\n",
              "    <tr>\n",
              "      <th>5</th>\n",
              "      <td>6</td>\n",
              "      <td>automobile</td>\n",
              "    </tr>\n",
              "    <tr>\n",
              "      <th>6</th>\n",
              "      <td>7</td>\n",
              "      <td>bird</td>\n",
              "    </tr>\n",
              "    <tr>\n",
              "      <th>7</th>\n",
              "      <td>8</td>\n",
              "      <td>horse</td>\n",
              "    </tr>\n",
              "    <tr>\n",
              "      <th>8</th>\n",
              "      <td>9</td>\n",
              "      <td>ship</td>\n",
              "    </tr>\n",
              "    <tr>\n",
              "      <th>9</th>\n",
              "      <td>10</td>\n",
              "      <td>cat</td>\n",
              "    </tr>\n",
              "  </tbody>\n",
              "</table>\n",
              "</div>\n",
              "    <div class=\"colab-df-buttons\">\n",
              "\n",
              "  <div class=\"colab-df-container\">\n",
              "    <button class=\"colab-df-convert\" onclick=\"convertToInteractive('df-1a016552-8e11-469c-bae2-2c2dadd3fcee')\"\n",
              "            title=\"Convert this dataframe to an interactive table.\"\n",
              "            style=\"display:none;\">\n",
              "\n",
              "  <svg xmlns=\"http://www.w3.org/2000/svg\" height=\"24px\" viewBox=\"0 -960 960 960\">\n",
              "    <path d=\"M120-120v-720h720v720H120Zm60-500h600v-160H180v160Zm220 220h160v-160H400v160Zm0 220h160v-160H400v160ZM180-400h160v-160H180v160Zm440 0h160v-160H620v160ZM180-180h160v-160H180v160Zm440 0h160v-160H620v160Z\"/>\n",
              "  </svg>\n",
              "    </button>\n",
              "\n",
              "  <style>\n",
              "    .colab-df-container {\n",
              "      display:flex;\n",
              "      gap: 12px;\n",
              "    }\n",
              "\n",
              "    .colab-df-convert {\n",
              "      background-color: #E8F0FE;\n",
              "      border: none;\n",
              "      border-radius: 50%;\n",
              "      cursor: pointer;\n",
              "      display: none;\n",
              "      fill: #1967D2;\n",
              "      height: 32px;\n",
              "      padding: 0 0 0 0;\n",
              "      width: 32px;\n",
              "    }\n",
              "\n",
              "    .colab-df-convert:hover {\n",
              "      background-color: #E2EBFA;\n",
              "      box-shadow: 0px 1px 2px rgba(60, 64, 67, 0.3), 0px 1px 3px 1px rgba(60, 64, 67, 0.15);\n",
              "      fill: #174EA6;\n",
              "    }\n",
              "\n",
              "    .colab-df-buttons div {\n",
              "      margin-bottom: 4px;\n",
              "    }\n",
              "\n",
              "    [theme=dark] .colab-df-convert {\n",
              "      background-color: #3B4455;\n",
              "      fill: #D2E3FC;\n",
              "    }\n",
              "\n",
              "    [theme=dark] .colab-df-convert:hover {\n",
              "      background-color: #434B5C;\n",
              "      box-shadow: 0px 1px 3px 1px rgba(0, 0, 0, 0.15);\n",
              "      filter: drop-shadow(0px 1px 2px rgba(0, 0, 0, 0.3));\n",
              "      fill: #FFFFFF;\n",
              "    }\n",
              "  </style>\n",
              "\n",
              "    <script>\n",
              "      const buttonEl =\n",
              "        document.querySelector('#df-1a016552-8e11-469c-bae2-2c2dadd3fcee button.colab-df-convert');\n",
              "      buttonEl.style.display =\n",
              "        google.colab.kernel.accessAllowed ? 'block' : 'none';\n",
              "\n",
              "      async function convertToInteractive(key) {\n",
              "        const element = document.querySelector('#df-1a016552-8e11-469c-bae2-2c2dadd3fcee');\n",
              "        const dataTable =\n",
              "          await google.colab.kernel.invokeFunction('convertToInteractive',\n",
              "                                                    [key], {});\n",
              "        if (!dataTable) return;\n",
              "\n",
              "        const docLinkHtml = 'Like what you see? Visit the ' +\n",
              "          '<a target=\"_blank\" href=https://colab.research.google.com/notebooks/data_table.ipynb>data table notebook</a>'\n",
              "          + ' to learn more about interactive tables.';\n",
              "        element.innerHTML = '';\n",
              "        dataTable['output_type'] = 'display_data';\n",
              "        await google.colab.output.renderOutput(dataTable, element);\n",
              "        const docLink = document.createElement('div');\n",
              "        docLink.innerHTML = docLinkHtml;\n",
              "        element.appendChild(docLink);\n",
              "      }\n",
              "    </script>\n",
              "  </div>\n",
              "\n",
              "\n",
              "<div id=\"df-41f827b8-24e7-48fd-be81-92d7619705d3\">\n",
              "  <button class=\"colab-df-quickchart\" onclick=\"quickchart('df-41f827b8-24e7-48fd-be81-92d7619705d3')\"\n",
              "            title=\"Suggest charts\"\n",
              "            style=\"display:none;\">\n",
              "\n",
              "<svg xmlns=\"http://www.w3.org/2000/svg\" height=\"24px\"viewBox=\"0 0 24 24\"\n",
              "     width=\"24px\">\n",
              "    <g>\n",
              "        <path d=\"M19 3H5c-1.1 0-2 .9-2 2v14c0 1.1.9 2 2 2h14c1.1 0 2-.9 2-2V5c0-1.1-.9-2-2-2zM9 17H7v-7h2v7zm4 0h-2V7h2v10zm4 0h-2v-4h2v4z\"/>\n",
              "    </g>\n",
              "</svg>\n",
              "  </button>\n",
              "\n",
              "<style>\n",
              "  .colab-df-quickchart {\n",
              "      --bg-color: #E8F0FE;\n",
              "      --fill-color: #1967D2;\n",
              "      --hover-bg-color: #E2EBFA;\n",
              "      --hover-fill-color: #174EA6;\n",
              "      --disabled-fill-color: #AAA;\n",
              "      --disabled-bg-color: #DDD;\n",
              "  }\n",
              "\n",
              "  [theme=dark] .colab-df-quickchart {\n",
              "      --bg-color: #3B4455;\n",
              "      --fill-color: #D2E3FC;\n",
              "      --hover-bg-color: #434B5C;\n",
              "      --hover-fill-color: #FFFFFF;\n",
              "      --disabled-bg-color: #3B4455;\n",
              "      --disabled-fill-color: #666;\n",
              "  }\n",
              "\n",
              "  .colab-df-quickchart {\n",
              "    background-color: var(--bg-color);\n",
              "    border: none;\n",
              "    border-radius: 50%;\n",
              "    cursor: pointer;\n",
              "    display: none;\n",
              "    fill: var(--fill-color);\n",
              "    height: 32px;\n",
              "    padding: 0;\n",
              "    width: 32px;\n",
              "  }\n",
              "\n",
              "  .colab-df-quickchart:hover {\n",
              "    background-color: var(--hover-bg-color);\n",
              "    box-shadow: 0 1px 2px rgba(60, 64, 67, 0.3), 0 1px 3px 1px rgba(60, 64, 67, 0.15);\n",
              "    fill: var(--button-hover-fill-color);\n",
              "  }\n",
              "\n",
              "  .colab-df-quickchart-complete:disabled,\n",
              "  .colab-df-quickchart-complete:disabled:hover {\n",
              "    background-color: var(--disabled-bg-color);\n",
              "    fill: var(--disabled-fill-color);\n",
              "    box-shadow: none;\n",
              "  }\n",
              "\n",
              "  .colab-df-spinner {\n",
              "    border: 2px solid var(--fill-color);\n",
              "    border-color: transparent;\n",
              "    border-bottom-color: var(--fill-color);\n",
              "    animation:\n",
              "      spin 1s steps(1) infinite;\n",
              "  }\n",
              "\n",
              "  @keyframes spin {\n",
              "    0% {\n",
              "      border-color: transparent;\n",
              "      border-bottom-color: var(--fill-color);\n",
              "      border-left-color: var(--fill-color);\n",
              "    }\n",
              "    20% {\n",
              "      border-color: transparent;\n",
              "      border-left-color: var(--fill-color);\n",
              "      border-top-color: var(--fill-color);\n",
              "    }\n",
              "    30% {\n",
              "      border-color: transparent;\n",
              "      border-left-color: var(--fill-color);\n",
              "      border-top-color: var(--fill-color);\n",
              "      border-right-color: var(--fill-color);\n",
              "    }\n",
              "    40% {\n",
              "      border-color: transparent;\n",
              "      border-right-color: var(--fill-color);\n",
              "      border-top-color: var(--fill-color);\n",
              "    }\n",
              "    60% {\n",
              "      border-color: transparent;\n",
              "      border-right-color: var(--fill-color);\n",
              "    }\n",
              "    80% {\n",
              "      border-color: transparent;\n",
              "      border-right-color: var(--fill-color);\n",
              "      border-bottom-color: var(--fill-color);\n",
              "    }\n",
              "    90% {\n",
              "      border-color: transparent;\n",
              "      border-bottom-color: var(--fill-color);\n",
              "    }\n",
              "  }\n",
              "</style>\n",
              "\n",
              "  <script>\n",
              "    async function quickchart(key) {\n",
              "      const quickchartButtonEl =\n",
              "        document.querySelector('#' + key + ' button');\n",
              "      quickchartButtonEl.disabled = true;  // To prevent multiple clicks.\n",
              "      quickchartButtonEl.classList.add('colab-df-spinner');\n",
              "      try {\n",
              "        const charts = await google.colab.kernel.invokeFunction(\n",
              "            'suggestCharts', [key], {});\n",
              "      } catch (error) {\n",
              "        console.error('Error during call to suggestCharts:', error);\n",
              "      }\n",
              "      quickchartButtonEl.classList.remove('colab-df-spinner');\n",
              "      quickchartButtonEl.classList.add('colab-df-quickchart-complete');\n",
              "    }\n",
              "    (() => {\n",
              "      let quickchartButtonEl =\n",
              "        document.querySelector('#df-41f827b8-24e7-48fd-be81-92d7619705d3 button');\n",
              "      quickchartButtonEl.style.display =\n",
              "        google.colab.kernel.accessAllowed ? 'block' : 'none';\n",
              "    })();\n",
              "  </script>\n",
              "</div>\n",
              "\n",
              "    </div>\n",
              "  </div>\n"
            ],
            "application/vnd.google.colaboratory.intrinsic+json": {
              "type": "dataframe",
              "variable_name": "labels_df",
              "summary": "{\n  \"name\": \"labels_df\",\n  \"rows\": 50000,\n  \"fields\": [\n    {\n      \"column\": \"id\",\n      \"properties\": {\n        \"dtype\": \"number\",\n        \"std\": 14433,\n        \"min\": 1,\n        \"max\": 50000,\n        \"num_unique_values\": 50000,\n        \"samples\": [\n          33554,\n          9428,\n          200\n        ],\n        \"semantic_type\": \"\",\n        \"description\": \"\"\n      }\n    },\n    {\n      \"column\": \"label\",\n      \"properties\": {\n        \"dtype\": \"category\",\n        \"num_unique_values\": 10,\n        \"samples\": [\n          \"dog\",\n          \"truck\",\n          \"horse\"\n        ],\n        \"semantic_type\": \"\",\n        \"description\": \"\"\n      }\n    }\n  ]\n}"
            }
          },
          "metadata": {},
          "execution_count": 23
        }
      ]
    },
    {
      "cell_type": "code",
      "source": [
        "labels_df['label']"
      ],
      "metadata": {
        "colab": {
          "base_uri": "https://localhost:8080/",
          "height": 458
        },
        "id": "B4EEtMGQ4c4V",
        "outputId": "84e62b09-4067-48ee-daaa-1e1688be83a8"
      },
      "execution_count": 15,
      "outputs": [
        {
          "output_type": "execute_result",
          "data": {
            "text/plain": [
              "0              frog\n",
              "1             truck\n",
              "2             truck\n",
              "3              deer\n",
              "4        automobile\n",
              "            ...    \n",
              "49995          bird\n",
              "49996          frog\n",
              "49997         truck\n",
              "49998    automobile\n",
              "49999    automobile\n",
              "Name: label, Length: 50000, dtype: object"
            ],
            "text/html": [
              "<div>\n",
              "<style scoped>\n",
              "    .dataframe tbody tr th:only-of-type {\n",
              "        vertical-align: middle;\n",
              "    }\n",
              "\n",
              "    .dataframe tbody tr th {\n",
              "        vertical-align: top;\n",
              "    }\n",
              "\n",
              "    .dataframe thead th {\n",
              "        text-align: right;\n",
              "    }\n",
              "</style>\n",
              "<table border=\"1\" class=\"dataframe\">\n",
              "  <thead>\n",
              "    <tr style=\"text-align: right;\">\n",
              "      <th></th>\n",
              "      <th>label</th>\n",
              "    </tr>\n",
              "  </thead>\n",
              "  <tbody>\n",
              "    <tr>\n",
              "      <th>0</th>\n",
              "      <td>frog</td>\n",
              "    </tr>\n",
              "    <tr>\n",
              "      <th>1</th>\n",
              "      <td>truck</td>\n",
              "    </tr>\n",
              "    <tr>\n",
              "      <th>2</th>\n",
              "      <td>truck</td>\n",
              "    </tr>\n",
              "    <tr>\n",
              "      <th>3</th>\n",
              "      <td>deer</td>\n",
              "    </tr>\n",
              "    <tr>\n",
              "      <th>4</th>\n",
              "      <td>automobile</td>\n",
              "    </tr>\n",
              "    <tr>\n",
              "      <th>...</th>\n",
              "      <td>...</td>\n",
              "    </tr>\n",
              "    <tr>\n",
              "      <th>49995</th>\n",
              "      <td>bird</td>\n",
              "    </tr>\n",
              "    <tr>\n",
              "      <th>49996</th>\n",
              "      <td>frog</td>\n",
              "    </tr>\n",
              "    <tr>\n",
              "      <th>49997</th>\n",
              "      <td>truck</td>\n",
              "    </tr>\n",
              "    <tr>\n",
              "      <th>49998</th>\n",
              "      <td>automobile</td>\n",
              "    </tr>\n",
              "    <tr>\n",
              "      <th>49999</th>\n",
              "      <td>automobile</td>\n",
              "    </tr>\n",
              "  </tbody>\n",
              "</table>\n",
              "<p>50000 rows × 1 columns</p>\n",
              "</div><br><label><b>dtype:</b> object</label>"
            ]
          },
          "metadata": {},
          "execution_count": 15
        }
      ]
    },
    {
      "cell_type": "code",
      "source": [
        "label_dictionary = {'airplane':0, 'automobile':1, 'bird':2, 'cat':3, 'deer':4, 'dog':5, 'frog':6, 'horse':7, 'ship':8, 'truck':9}\n",
        "\n",
        "labels =[label_dictionary[i] for i in labels_df['label']]"
      ],
      "metadata": {
        "id": "kd7-LHpW4luq"
      },
      "execution_count": 17,
      "outputs": []
    },
    {
      "cell_type": "code",
      "source": [
        "print(labels[0:5] )\n",
        "print(labels[-5:])"
      ],
      "metadata": {
        "colab": {
          "base_uri": "https://localhost:8080/"
        },
        "id": "Ag4CTZuZ5ca8",
        "outputId": "8b9f69ff-8c80-4a26-998c-57f298867fdb"
      },
      "execution_count": 19,
      "outputs": [
        {
          "output_type": "stream",
          "name": "stdout",
          "text": [
            "[6, 9, 9, 4, 1]\n",
            "[2, 6, 9, 1, 1]\n"
          ]
        }
      ]
    },
    {
      "cell_type": "code",
      "source": [
        "import cv2\n",
        "from google.colab.patches import cv2_imshow\n",
        "img =cv2.imread('/content/train/49997.png')\n",
        "cv2_imshow(img )"
      ],
      "metadata": {
        "colab": {
          "base_uri": "https://localhost:8080/",
          "height": 49
        },
        "id": "U071pr8N6mz3",
        "outputId": "0f5faa75-1fd1-4ea0-9d72-7444ae5baf97"
      },
      "execution_count": 21,
      "outputs": [
        {
          "output_type": "display_data",
          "data": {
            "text/plain": [
              "<PIL.Image.Image image mode=RGB size=32x32>"
            ],
            "image/png": "[encoded data removed]",
            "image/jpeg": "[encoded data removed]"
          },
          "metadata": {}
        }
      ]
    },
    {
      "cell_type": "code",
      "source": [
        "labels_df[labels_df['id'] == 49997]"
      ],
      "metadata": {
        "colab": {
          "base_uri": "https://localhost:8080/",
          "height": 81
        },
        "id": "1wB1yCP37dKI",
        "outputId": "f5d128b2-188d-4fd9-ba54-366de4bbb33a"
      },
      "execution_count": 22,
      "outputs": [
        {
          "output_type": "execute_result",
          "data": {
            "text/plain": [
              "          id label\n",
              "49996  49997  frog"
            ],
            "text/html": [
              "\n",
              "  <div id=\"df-0566b996-f679-43ac-b274-13352f7f7af3\" class=\"colab-df-container\">\n",
              "    <div>\n",
              "<style scoped>\n",
              "    .dataframe tbody tr th:only-of-type {\n",
              "        vertical-align: middle;\n",
              "    }\n",
              "\n",
              "    .dataframe tbody tr th {\n",
              "        vertical-align: top;\n",
              "    }\n",
              "\n",
              "    .dataframe thead th {\n",
              "        text-align: right;\n",
              "    }\n",
              "</style>\n",
              "<table border=\"1\" class=\"dataframe\">\n",
              "  <thead>\n",
              "    <tr style=\"text-align: right;\">\n",
              "      <th></th>\n",
              "      <th>id</th>\n",
              "      <th>label</th>\n",
              "    </tr>\n",
              "  </thead>\n",
              "  <tbody>\n",
              "    <tr>\n",
              "      <th>49996</th>\n",
              "      <td>49997</td>\n",
              "      <td>frog</td>\n",
              "    </tr>\n",
              "  </tbody>\n",
              "</table>\n",
              "</div>\n",
              "    <div class=\"colab-df-buttons\">\n",
              "\n",
              "  <div class=\"colab-df-container\">\n",
              "    <button class=\"colab-df-convert\" onclick=\"convertToInteractive('df-0566b996-f679-43ac-b274-13352f7f7af3')\"\n",
              "            title=\"Convert this dataframe to an interactive table.\"\n",
              "            style=\"display:none;\">\n",
              "\n",
              "  <svg xmlns=\"http://www.w3.org/2000/svg\" height=\"24px\" viewBox=\"0 -960 960 960\">\n",
              "    <path d=\"M120-120v-720h720v720H120Zm60-500h600v-160H180v160Zm220 220h160v-160H400v160Zm0 220h160v-160H400v160ZM180-400h160v-160H180v160Zm440 0h160v-160H620v160ZM180-180h160v-160H180v160Zm440 0h160v-160H620v160Z\"/>\n",
              "  </svg>\n",
              "    </button>\n",
              "\n",
              "  <style>\n",
              "    .colab-df-container {\n",
              "      display:flex;\n",
              "      gap: 12px;\n",
              "    }\n",
              "\n",
              "    .colab-df-convert {\n",
              "      background-color: #E8F0FE;\n",
              "      border: none;\n",
              "      border-radius: 50%;\n",
              "      cursor: pointer;\n",
              "      display: none;\n",
              "      fill: #1967D2;\n",
              "      height: 32px;\n",
              "      padding: 0 0 0 0;\n",
              "      width: 32px;\n",
              "    }\n",
              "\n",
              "    .colab-df-convert:hover {\n",
              "      background-color: #E2EBFA;\n",
              "      box-shadow: 0px 1px 2px rgba(60, 64, 67, 0.3), 0px 1px 3px 1px rgba(60, 64, 67, 0.15);\n",
              "      fill: #174EA6;\n",
              "    }\n",
              "\n",
              "    .colab-df-buttons div {\n",
              "      margin-bottom: 4px;\n",
              "    }\n",
              "\n",
              "    [theme=dark] .colab-df-convert {\n",
              "      background-color: #3B4455;\n",
              "      fill: #D2E3FC;\n",
              "    }\n",
              "\n",
              "    [theme=dark] .colab-df-convert:hover {\n",
              "      background-color: #434B5C;\n",
              "      box-shadow: 0px 1px 3px 1px rgba(0, 0, 0, 0.15);\n",
              "      filter: drop-shadow(0px 1px 2px rgba(0, 0, 0, 0.3));\n",
              "      fill: #FFFFFF;\n",
              "    }\n",
              "  </style>\n",
              "\n",
              "    <script>\n",
              "      const buttonEl =\n",
              "        document.querySelector('#df-0566b996-f679-43ac-b274-13352f7f7af3 button.colab-df-convert');\n",
              "      buttonEl.style.display =\n",
              "        google.colab.kernel.accessAllowed ? 'block' : 'none';\n",
              "\n",
              "      async function convertToInteractive(key) {\n",
              "        const element = document.querySelector('#df-0566b996-f679-43ac-b274-13352f7f7af3');\n",
              "        const dataTable =\n",
              "          await google.colab.kernel.invokeFunction('convertToInteractive',\n",
              "                                                    [key], {});\n",
              "        if (!dataTable) return;\n",
              "\n",
              "        const docLinkHtml = 'Like what you see? Visit the ' +\n",
              "          '<a target=\"_blank\" href=https://colab.research.google.com/notebooks/data_table.ipynb>data table notebook</a>'\n",
              "          + ' to learn more about interactive tables.';\n",
              "        element.innerHTML = '';\n",
              "        dataTable['output_type'] = 'display_data';\n",
              "        await google.colab.output.renderOutput(dataTable, element);\n",
              "        const docLink = document.createElement('div');\n",
              "        docLink.innerHTML = docLinkHtml;\n",
              "        element.appendChild(docLink);\n",
              "      }\n",
              "    </script>\n",
              "  </div>\n",
              "\n",
              "\n",
              "    </div>\n",
              "  </div>\n"
            ],
            "application/vnd.google.colaboratory.intrinsic+json": {
              "type": "dataframe",
              "summary": "{\n  \"name\": \"labels_df[labels_df['id'] == 49997]\",\n  \"rows\": 1,\n  \"fields\": [\n    {\n      \"column\": \"id\",\n      \"properties\": {\n        \"dtype\": \"number\",\n        \"std\": null,\n        \"min\": 49997,\n        \"max\": 49997,\n        \"num_unique_values\": 1,\n        \"samples\": [\n          49997\n        ],\n        \"semantic_type\": \"\",\n        \"description\": \"\"\n      }\n    },\n    {\n      \"column\": \"label\",\n      \"properties\": {\n        \"dtype\": \"string\",\n        \"num_unique_values\": 1,\n        \"samples\": [\n          \"frog\"\n        ],\n        \"semantic_type\": \"\",\n        \"description\": \"\"\n      }\n    }\n  ]\n}"
            }
          },
          "metadata": {},
          "execution_count": 22
        }
      ]
    },
    {
      "cell_type": "code",
      "source": [
        "id_list = list(labels_df['id'])"
      ],
      "metadata": {
        "id": "b3iwJMoK8ZcL"
      },
      "execution_count": 25,
      "outputs": []
    },
    {
      "cell_type": "code",
      "source": [
        "print(id_list[0:5])\n",
        "print(id_list[-5:])"
      ],
      "metadata": {
        "colab": {
          "base_uri": "https://localhost:8080/"
        },
        "id": "QJ8MmK7c9aHI",
        "outputId": "37036902-707e-4f70-9d53-b434841ee0d6"
      },
      "execution_count": 26,
      "outputs": [
        {
          "output_type": "stream",
          "name": "stdout",
          "text": [
            "[1, 2, 3, 4, 5]\n",
            "[49996, 49997, 49998, 49999, 50000]\n"
          ]
        }
      ]
    },
    {
      "cell_type": "code",
      "source": [
        "!pip install Pillow\n",
        "from PIL import Image\n",
        "import numpy as np\n",
        "train_data_folder ='/content/train/'\n",
        "\n",
        "data=[]\n",
        "\n",
        "for i in id_list:\n",
        "   image =Image.open(train_data_folder+str(i)+'.png')\n",
        "   image =np.array(image)\n",
        "   data.append(image)"
      ],
      "metadata": {
        "colab": {
          "base_uri": "https://localhost:8080/"
        },
        "id": "oKLu_hgF_Lf8",
        "outputId": "d1f6ecd2-7950-4ca6-fb2c-2a28ce1d3168"
      },
      "execution_count": 32,
      "outputs": [
        {
          "output_type": "stream",
          "name": "stdout",
          "text": [
            "Requirement already satisfied: Pillow in /usr/local/lib/python3.10/dist-packages (10.4.0)\n"
          ]
        }
      ]
    },
    {
      "cell_type": "code",
      "source": [
        "type(data)"
      ],
      "metadata": {
        "colab": {
          "base_uri": "https://localhost:8080/"
        },
        "id": "BbHi1yyCBZpx",
        "outputId": "51f32e34-4af7-4398-c2ff-6c7aa66c350c"
      },
      "execution_count": 34,
      "outputs": [
        {
          "output_type": "execute_result",
          "data": {
            "text/plain": [
              "list"
            ]
          },
          "metadata": {},
          "execution_count": 34
        }
      ]
    },
    {
      "cell_type": "markdown",
      "source": [
        "#convert Images list and labels to numpy arrays"
      ],
      "metadata": {
        "id": "zYtybrfNDw0v"
      }
    },
    {
      "cell_type": "code",
      "source": [
        "X= np.array(data)\n",
        "Y= np.array(labels)\n",
        "type(X)\n",
        "type(Y)"
      ],
      "metadata": {
        "colab": {
          "base_uri": "https://localhost:8080/"
        },
        "id": "9QoiPRxYD_ag",
        "outputId": "3a8cc231-8fb0-4691-f000-340be0045835"
      },
      "execution_count": 36,
      "outputs": [
        {
          "output_type": "execute_result",
          "data": {
            "text/plain": [
              "numpy.ndarray"
            ]
          },
          "metadata": {},
          "execution_count": 36
        }
      ]
    },
    {
      "cell_type": "code",
      "source": [
        "X_train, X_test, y_train, y_test = train_test_split(X, Y, test_size=0.2, random_state=42)\n",
        "print(X_train.shape)\n",
        "print(X_test.shape)\n",
        "print(y_train.shape)\n",
        "print(y_test.shape)"
      ],
      "metadata": {
        "colab": {
          "base_uri": "https://localhost:8080/"
        },
        "id": "PQundQlSFblv",
        "outputId": "8e1bb24f-5ecd-4c57-c813-b0f80a65e0a5"
      },
      "execution_count": 37,
      "outputs": [
        {
          "output_type": "stream",
          "name": "stdout",
          "text": [
            "(40000, 32, 32, 3)\n",
            "(10000, 32, 32, 3)\n",
            "(40000,)\n",
            "(10000,)\n"
          ]
        }
      ]
    },
    {
      "cell_type": "code",
      "source": [
        "X_train_scaled = X_train / 255\n"
      ],
      "metadata": {
        "id": "hA29SDMSGdoT"
      },
      "execution_count": 38,
      "outputs": []
    },
    {
      "cell_type": "code",
      "source": [
        "X_train_scaled"
      ],
      "metadata": {
        "colab": {
          "base_uri": "https://localhost:8080/"
        },
        "id": "vruk99FOGpMd",
        "outputId": "4a9841b1-5bf7-4727-9b77-0996c1aa619f"
      },
      "execution_count": 39,
      "outputs": [
        {
          "output_type": "execute_result",
          "data": {
            "text/plain": [
              "array([[[[0.13333333, 0.14117647, 0.16862745],\n",
              "         [0.14509804, 0.14509804, 0.2       ],\n",
              "         [0.17254902, 0.17254902, 0.25098039],\n",
              "         ...,\n",
              "         [0.24313725, 0.28627451, 0.36470588],\n",
              "         [0.20392157, 0.24705882, 0.3254902 ],\n",
              "         [0.17647059, 0.22352941, 0.30196078]],\n",
              "\n",
              "        [[0.1372549 , 0.1372549 , 0.14509804],\n",
              "         [0.13333333, 0.13333333, 0.15686275],\n",
              "         [0.13333333, 0.12941176, 0.16862745],\n",
              "         ...,\n",
              "         [0.22745098, 0.27058824, 0.34901961],\n",
              "         [0.19607843, 0.23529412, 0.31372549],\n",
              "         [0.18431373, 0.22745098, 0.30588235]],\n",
              "\n",
              "        [[0.13333333, 0.12941176, 0.1372549 ],\n",
              "         [0.12941176, 0.1254902 , 0.14117647],\n",
              "         [0.12941176, 0.1254902 , 0.14901961],\n",
              "         ...,\n",
              "         [0.25882353, 0.30196078, 0.38039216],\n",
              "         [0.2       , 0.24313725, 0.32156863],\n",
              "         [0.20784314, 0.25098039, 0.32941176]],\n",
              "\n",
              "        ...,\n",
              "\n",
              "        [[0.1254902 , 0.1254902 , 0.14901961],\n",
              "         [0.1254902 , 0.12156863, 0.14509804],\n",
              "         [0.12941176, 0.12941176, 0.14901961],\n",
              "         ...,\n",
              "         [0.16078431, 0.14901961, 0.17647059],\n",
              "         [0.13333333, 0.12156863, 0.14901961],\n",
              "         [0.14117647, 0.1254902 , 0.15686275]],\n",
              "\n",
              "        [[0.12941176, 0.12156863, 0.14117647],\n",
              "         [0.1254902 , 0.11764706, 0.14117647],\n",
              "         [0.13333333, 0.1254902 , 0.14509804],\n",
              "         ...,\n",
              "         [0.14509804, 0.1372549 , 0.15686275],\n",
              "         [0.1254902 , 0.11372549, 0.1372549 ],\n",
              "         [0.11764706, 0.10980392, 0.12941176]],\n",
              "\n",
              "        [[0.14509804, 0.1254902 , 0.1372549 ],\n",
              "         [0.14509804, 0.1254902 , 0.14117647],\n",
              "         [0.14509804, 0.12941176, 0.14117647],\n",
              "         ...,\n",
              "         [0.19215686, 0.18431373, 0.19215686],\n",
              "         [0.18431373, 0.17647059, 0.18823529],\n",
              "         [0.22745098, 0.21960784, 0.22745098]]],\n",
              "\n",
              "\n",
              "       [[[0.35686275, 0.36862745, 0.35686275],\n",
              "         [0.37254902, 0.44313725, 0.34509804],\n",
              "         [0.36078431, 0.4745098 , 0.35686275],\n",
              "         ...,\n",
              "         [0.58823529, 0.6       , 0.58823529],\n",
              "         [0.51372549, 0.56862745, 0.41568627],\n",
              "         [0.34901961, 0.4627451 , 0.14901961]],\n",
              "\n",
              "        [[0.39215686, 0.53333333, 0.39607843],\n",
              "         [0.36862745, 0.50196078, 0.39215686],\n",
              "         [0.2745098 , 0.40392157, 0.27843137],\n",
              "         ...,\n",
              "         [0.30196078, 0.30980392, 0.30588235],\n",
              "         [0.38823529, 0.44705882, 0.35294118],\n",
              "         [0.3372549 , 0.43137255, 0.22352941]],\n",
              "\n",
              "        [[0.40784314, 0.56470588, 0.38823529],\n",
              "         [0.33333333, 0.47843137, 0.33333333],\n",
              "         [0.22745098, 0.32941176, 0.2       ],\n",
              "         ...,\n",
              "         [0.24313725, 0.29019608, 0.27058824],\n",
              "         [0.21960784, 0.2745098 , 0.21960784],\n",
              "         [0.2627451 , 0.33333333, 0.22352941]],\n",
              "\n",
              "        ...,\n",
              "\n",
              "        [[0.4627451 , 0.41960784, 0.40392157],\n",
              "         [0.58039216, 0.54509804, 0.55686275],\n",
              "         [0.52156863, 0.47058824, 0.45882353],\n",
              "         ...,\n",
              "         [0.32156863, 0.29019608, 0.35686275],\n",
              "         [0.48627451, 0.42745098, 0.46666667],\n",
              "         [0.41960784, 0.35294118, 0.36862745]],\n",
              "\n",
              "        [[0.56078431, 0.47843137, 0.49019608],\n",
              "         [0.58823529, 0.5254902 , 0.54901961],\n",
              "         [0.70980392, 0.61960784, 0.59607843],\n",
              "         ...,\n",
              "         [0.29019608, 0.2745098 , 0.3372549 ],\n",
              "         [0.43137255, 0.4       , 0.41568627],\n",
              "         [0.38039216, 0.35294118, 0.34509804]],\n",
              "\n",
              "        [[0.4745098 , 0.43529412, 0.42745098],\n",
              "         [0.52941176, 0.49411765, 0.49803922],\n",
              "         [0.60784314, 0.54117647, 0.53333333],\n",
              "         ...,\n",
              "         [0.25490196, 0.22352941, 0.29019608],\n",
              "         [0.50980392, 0.4627451 , 0.4745098 ],\n",
              "         [0.57647059, 0.53333333, 0.5254902 ]]],\n",
              "\n",
              "\n",
              "       [[[0.81568627, 0.76862745, 0.61960784],\n",
              "         [0.77647059, 0.70196078, 0.59215686],\n",
              "         [0.64313725, 0.60784314, 0.50980392],\n",
              "         ...,\n",
              "         [0.68235294, 0.62352941, 0.5254902 ],\n",
              "         [0.72941176, 0.6745098 , 0.52941176],\n",
              "         [0.75294118, 0.73333333, 0.57647059]],\n",
              "\n",
              "        [[0.8       , 0.76470588, 0.61960784],\n",
              "         [0.70196078, 0.64705882, 0.55294118],\n",
              "         [0.6       , 0.56078431, 0.50588235],\n",
              "         ...,\n",
              "         [0.68235294, 0.61960784, 0.5372549 ],\n",
              "         [0.74509804, 0.68235294, 0.56078431],\n",
              "         [0.74509804, 0.70980392, 0.56078431]],\n",
              "\n",
              "        [[0.7254902 , 0.70588235, 0.58039216],\n",
              "         [0.52941176, 0.49411765, 0.43921569],\n",
              "         [0.39215686, 0.34901961, 0.36078431],\n",
              "         ...,\n",
              "         [0.74901961, 0.69019608, 0.58823529],\n",
              "         [0.70588235, 0.63921569, 0.52941176],\n",
              "         [0.78823529, 0.7372549 , 0.61176471]],\n",
              "\n",
              "        ...,\n",
              "\n",
              "        [[0.85098039, 0.82745098, 0.81960784],\n",
              "         [0.73333333, 0.69019608, 0.7372549 ],\n",
              "         [0.69411765, 0.64313725, 0.66666667],\n",
              "         ...,\n",
              "         [0.54509804, 0.43137255, 0.4627451 ],\n",
              "         [0.58823529, 0.43921569, 0.4745098 ],\n",
              "         [0.84705882, 0.77647059, 0.77254902]],\n",
              "\n",
              "        [[0.93333333, 0.89411765, 0.88627451],\n",
              "         [0.88627451, 0.83921569, 0.85098039],\n",
              "         [0.91764706, 0.8745098 , 0.86666667],\n",
              "         ...,\n",
              "         [0.59215686, 0.44705882, 0.47843137],\n",
              "         [0.71764706, 0.58431373, 0.60784314],\n",
              "         [0.85490196, 0.77647059, 0.78039216]],\n",
              "\n",
              "        [[0.9254902 , 0.87843137, 0.87058824],\n",
              "         [0.84705882, 0.8       , 0.8       ],\n",
              "         [0.88235294, 0.83921569, 0.81960784],\n",
              "         ...,\n",
              "         [0.73333333, 0.63137255, 0.63921569],\n",
              "         [0.7372549 , 0.64705882, 0.64705882],\n",
              "         [0.69411765, 0.61960784, 0.61568627]]],\n",
              "\n",
              "\n",
              "       ...,\n",
              "\n",
              "\n",
              "       [[[0.41960784, 0.57647059, 0.76078431],\n",
              "         [0.49803922, 0.61176471, 0.76470588],\n",
              "         [0.45882353, 0.59607843, 0.76470588],\n",
              "         ...,\n",
              "         [0.51764706, 0.70588235, 0.88235294],\n",
              "         [0.50196078, 0.69803922, 0.87058824],\n",
              "         [0.48235294, 0.69019608, 0.85882353]],\n",
              "\n",
              "        [[0.4627451 , 0.61176471, 0.78431373],\n",
              "         [0.52156863, 0.62745098, 0.76862745],\n",
              "         [0.48627451, 0.61176471, 0.76862745],\n",
              "         ...,\n",
              "         [0.55686275, 0.7254902 , 0.88627451],\n",
              "         [0.53333333, 0.70980392, 0.87058824],\n",
              "         [0.51372549, 0.70588235, 0.85882353]],\n",
              "\n",
              "        [[0.49803922, 0.63137255, 0.78823529],\n",
              "         [0.5372549 , 0.63529412, 0.75686275],\n",
              "         [0.51764706, 0.63137255, 0.76862745],\n",
              "         ...,\n",
              "         [0.59215686, 0.7372549 , 0.87843137],\n",
              "         [0.56078431, 0.71372549, 0.85490196],\n",
              "         [0.54509804, 0.70980392, 0.84313725]],\n",
              "\n",
              "        ...,\n",
              "\n",
              "        [[0.12156863, 0.12156863, 0.12156863],\n",
              "         [0.12156863, 0.12156863, 0.12156863],\n",
              "         [0.12156863, 0.12156863, 0.12156863],\n",
              "         ...,\n",
              "         [0.1254902 , 0.11764706, 0.15686275],\n",
              "         [0.11372549, 0.1254902 , 0.16470588],\n",
              "         [0.10980392, 0.12941176, 0.16078431]],\n",
              "\n",
              "        [[0.12156863, 0.12156863, 0.12156863],\n",
              "         [0.12156863, 0.12156863, 0.12156863],\n",
              "         [0.12156863, 0.12156863, 0.12156863],\n",
              "         ...,\n",
              "         [0.12156863, 0.11764706, 0.14117647],\n",
              "         [0.11764706, 0.12156863, 0.14509804],\n",
              "         [0.11764706, 0.12156863, 0.14117647]],\n",
              "\n",
              "        [[0.12156863, 0.12156863, 0.12156863],\n",
              "         [0.12156863, 0.12156863, 0.12156863],\n",
              "         [0.12156863, 0.12156863, 0.12156863],\n",
              "         ...,\n",
              "         [0.12156863, 0.11764706, 0.13333333],\n",
              "         [0.12156863, 0.11764706, 0.13333333],\n",
              "         [0.12156863, 0.11764706, 0.13333333]]],\n",
              "\n",
              "\n",
              "       [[[1.        , 1.        , 1.        ],\n",
              "         [1.        , 1.        , 1.        ],\n",
              "         [1.        , 1.        , 1.        ],\n",
              "         ...,\n",
              "         [1.        , 1.        , 1.        ],\n",
              "         [1.        , 1.        , 1.        ],\n",
              "         [1.        , 1.        , 1.        ]],\n",
              "\n",
              "        [[1.        , 1.        , 1.        ],\n",
              "         [0.99215686, 0.99215686, 0.99215686],\n",
              "         [0.99607843, 0.99607843, 0.99607843],\n",
              "         ...,\n",
              "         [0.99607843, 0.99607843, 0.99607843],\n",
              "         [0.98823529, 0.99607843, 0.99215686],\n",
              "         [0.99607843, 1.        , 1.        ]],\n",
              "\n",
              "        [[1.        , 1.        , 1.        ],\n",
              "         [0.99607843, 0.99607843, 0.99607843],\n",
              "         [1.        , 1.        , 1.        ],\n",
              "         ...,\n",
              "         [0.99607843, 1.        , 1.        ],\n",
              "         [0.99215686, 0.99607843, 0.99607843],\n",
              "         [0.99607843, 1.        , 1.        ]],\n",
              "\n",
              "        ...,\n",
              "\n",
              "        [[0.30196078, 0.28627451, 0.26666667],\n",
              "         [0.31764706, 0.30196078, 0.2745098 ],\n",
              "         [0.30980392, 0.29803922, 0.2627451 ],\n",
              "         ...,\n",
              "         [0.30588235, 0.31372549, 0.28627451],\n",
              "         [0.29803922, 0.29411765, 0.27058824],\n",
              "         [0.30588235, 0.28627451, 0.25882353]],\n",
              "\n",
              "        [[0.25098039, 0.23529412, 0.21176471],\n",
              "         [0.24705882, 0.23529412, 0.20392157],\n",
              "         [0.28235294, 0.2745098 , 0.23529412],\n",
              "         ...,\n",
              "         [0.26666667, 0.27843137, 0.25098039],\n",
              "         [0.29019608, 0.28627451, 0.27058824],\n",
              "         [0.30588235, 0.27058824, 0.2627451 ]],\n",
              "\n",
              "        [[0.23137255, 0.21960784, 0.19607843],\n",
              "         [0.25882353, 0.24705882, 0.21176471],\n",
              "         [0.29411765, 0.28235294, 0.24313725],\n",
              "         ...,\n",
              "         [0.24313725, 0.25098039, 0.21960784],\n",
              "         [0.25882353, 0.25098039, 0.23137255],\n",
              "         [0.27843137, 0.25098039, 0.23921569]]],\n",
              "\n",
              "\n",
              "       [[[0.73333333, 0.80392157, 0.94117647],\n",
              "         [0.77254902, 0.81960784, 0.94117647],\n",
              "         [0.78431373, 0.81960784, 0.9254902 ],\n",
              "         ...,\n",
              "         [0.95686275, 0.96078431, 0.97647059],\n",
              "         [0.94901961, 0.95294118, 0.97254902],\n",
              "         [0.95294118, 0.95294118, 0.97647059]],\n",
              "\n",
              "        [[0.58039216, 0.68235294, 0.85882353],\n",
              "         [0.6627451 , 0.73333333, 0.89019608],\n",
              "         [0.72156863, 0.76862745, 0.90588235],\n",
              "         ...,\n",
              "         [0.9372549 , 0.9372549 , 0.95686275],\n",
              "         [0.96078431, 0.96470588, 0.98431373],\n",
              "         [0.97254902, 0.97254902, 0.99215686]],\n",
              "\n",
              "        [[0.60784314, 0.71372549, 0.89803922],\n",
              "         [0.63529412, 0.7254902 , 0.89411765],\n",
              "         [0.69411765, 0.76862745, 0.92156863],\n",
              "         ...,\n",
              "         [0.9372549 , 0.9372549 , 0.97254902],\n",
              "         [0.94509804, 0.94509804, 0.97647059],\n",
              "         [0.94117647, 0.94509804, 0.96862745]],\n",
              "\n",
              "        ...,\n",
              "\n",
              "        [[0.21176471, 0.2627451 , 0.30196078],\n",
              "         [0.22352941, 0.2745098 , 0.30980392],\n",
              "         [0.21960784, 0.27058824, 0.30588235],\n",
              "         ...,\n",
              "         [0.36078431, 0.44313725, 0.45490196],\n",
              "         [0.38431373, 0.46666667, 0.49019608],\n",
              "         [0.37647059, 0.45490196, 0.48627451]],\n",
              "\n",
              "        [[0.16470588, 0.21568627, 0.24705882],\n",
              "         [0.16078431, 0.21176471, 0.24313725],\n",
              "         [0.15686275, 0.20784314, 0.23921569],\n",
              "         ...,\n",
              "         [0.30196078, 0.38431373, 0.39215686],\n",
              "         [0.36862745, 0.45098039, 0.46666667],\n",
              "         [0.35294118, 0.43529412, 0.45882353]],\n",
              "\n",
              "        [[0.1254902 , 0.18039216, 0.20392157],\n",
              "         [0.1254902 , 0.17647059, 0.2       ],\n",
              "         [0.1372549 , 0.18823529, 0.21176471],\n",
              "         ...,\n",
              "         [0.29019608, 0.37254902, 0.37254902],\n",
              "         [0.31372549, 0.39607843, 0.40392157],\n",
              "         [0.31372549, 0.39607843, 0.41568627]]]])"
            ]
          },
          "metadata": {},
          "execution_count": 39
        }
      ]
    },
    {
      "cell_type": "code",
      "source": [
        "import keras\n",
        "from keras.models import Sequential\n",
        "from keras.layers import Conv2D, MaxPooling2D, Flatten, Dense, Dropout"
      ],
      "metadata": {
        "id": "MIM9ZkLBGr-h"
      },
      "execution_count": 40,
      "outputs": []
    },
    {
      "cell_type": "code",
      "source": [
        "import tensorflow as tf\n",
        "from tensorflow import keras"
      ],
      "metadata": {
        "id": "4-sBn7soI011"
      },
      "execution_count": 41,
      "outputs": []
    },
    {
      "cell_type": "code",
      "source": [
        "import keras\n",
        "from keras.models import Sequential\n",
        "from keras.layers import Conv2D, MaxPooling2D, Flatten, Dense, Dropout, Input # Added Input layer\n",
        "\n",
        "num_of_classes = 10\n",
        "\n",
        "model = keras.Sequential([\n",
        "    keras.layers.Flatten(input_shape=(32,32,3)), # Changed Input(shape)==(32,32,3) to input_shape=(32,32,3)\n",
        "    keras.layers.Dense(64, activation='relu'),\n",
        "    keras.layers.Dense(num_of_classes, activation='softmax')\n",
        "])"
      ],
      "metadata": {
        "colab": {
          "base_uri": "https://localhost:8080/"
        },
        "id": "M-xmuN99Mjke",
        "outputId": "fee7cf0a-8335-4439-8404-55710dd6b895"
      },
      "execution_count": 49,
      "outputs": [
        {
          "output_type": "stream",
          "name": "stderr",
          "text": [
            "/usr/local/lib/python3.10/dist-packages/keras/src/layers/reshaping/flatten.py:37: UserWarning: Do not pass an `input_shape`/`input_dim` argument to a layer. When using Sequential models, prefer using an `Input(shape)` object as the first layer in the model instead.\n",
            "  super().__init__(**kwargs)\n"
          ]
        }
      ]
    },
    {
      "cell_type": "code",
      "source": [
        "model.compile(optimizer='adam',\n",
        "              loss='sparse_categorical_crossentropy',\n",
        "              metrics=['accuracy'])"
      ],
      "metadata": {
        "id": "LGePqxLbLx-H"
      },
      "execution_count": 52,
      "outputs": []
    },
    {
      "cell_type": "code",
      "source": [
        "model.fit(X_train_scaled, y_train,validation_split=.1, epochs=10)"
      ],
      "metadata": {
        "colab": {
          "base_uri": "https://localhost:8080/"
        },
        "id": "IPrcD3cbL3PZ",
        "outputId": "215eb70d-fd63-4441-951a-49a82642d9eb"
      },
      "execution_count": 53,
      "outputs": [
        {
          "output_type": "stream",
          "name": "stdout",
          "text": [
            "Epoch 1/10\n",
            "\u001b[1m1125/1125\u001b[0m \u001b[32m━━━━━━━━━━━━━━━━━━━━\u001b[0m\u001b[37m\u001b[0m \u001b[1m7s\u001b[0m 5ms/step - accuracy: 0.1523 - loss: 2.2515 - val_accuracy: 0.1922 - val_loss: 2.1117\n",
            "Epoch 2/10\n",
            "\u001b[1m1125/1125\u001b[0m \u001b[32m━━━━━━━━━━━━━━━━━━━━\u001b[0m\u001b[37m\u001b[0m \u001b[1m12s\u001b[0m 7ms/step - accuracy: 0.1884 - loss: 2.1059 - val_accuracy: 0.1805 - val_loss: 2.0973\n",
            "Epoch 3/10\n",
            "\u001b[1m1125/1125\u001b[0m \u001b[32m━━━━━━━━━━━━━━━━━━━━\u001b[0m\u001b[37m\u001b[0m \u001b[1m8s\u001b[0m 5ms/step - accuracy: 0.1944 - loss: 2.0738 - val_accuracy: 0.1968 - val_loss: 2.0557\n",
            "Epoch 4/10\n",
            "\u001b[1m1125/1125\u001b[0m \u001b[32m━━━━━━━━━━━━━━━━━━━━\u001b[0m\u001b[37m\u001b[0m \u001b[1m9s\u001b[0m 8ms/step - accuracy: 0.1941 - loss: 2.0582 - val_accuracy: 0.1920 - val_loss: 2.0571\n",
            "Epoch 5/10\n",
            "\u001b[1m1125/1125\u001b[0m \u001b[32m━━━━━━━━━━━━━━━━━━━━\u001b[0m\u001b[37m\u001b[0m \u001b[1m7s\u001b[0m 6ms/step - accuracy: 0.1894 - loss: 2.0569 - val_accuracy: 0.2017 - val_loss: 2.0406\n",
            "Epoch 6/10\n",
            "\u001b[1m1125/1125\u001b[0m \u001b[32m━━━━━━━━━━━━━━━━━━━━\u001b[0m\u001b[37m\u001b[0m \u001b[1m15s\u001b[0m 11ms/step - accuracy: 0.1920 - loss: 2.0447 - val_accuracy: 0.1965 - val_loss: 2.0366\n",
            "Epoch 7/10\n",
            "\u001b[1m1125/1125\u001b[0m \u001b[32m━━━━━━━━━━━━━━━━━━━━\u001b[0m\u001b[37m\u001b[0m \u001b[1m6s\u001b[0m 5ms/step - accuracy: 0.1914 - loss: 2.0423 - val_accuracy: 0.1975 - val_loss: 2.0388\n",
            "Epoch 8/10\n",
            "\u001b[1m1125/1125\u001b[0m \u001b[32m━━━━━━━━━━━━━━━━━━━━\u001b[0m\u001b[37m\u001b[0m \u001b[1m12s\u001b[0m 6ms/step - accuracy: 0.1930 - loss: 2.0446 - val_accuracy: 0.1865 - val_loss: 2.0427\n",
            "Epoch 9/10\n",
            "\u001b[1m1125/1125\u001b[0m \u001b[32m━━━━━━━━━━━━━━━━━━━━\u001b[0m\u001b[37m\u001b[0m \u001b[1m10s\u001b[0m 7ms/step - accuracy: 0.1939 - loss: 2.0321 - val_accuracy: 0.1965 - val_loss: 2.0343\n",
            "Epoch 10/10\n",
            "\u001b[1m1125/1125\u001b[0m \u001b[32m━━━━━━━━━━━━━━━━━━━━\u001b[0m\u001b[37m\u001b[0m \u001b[1m8s\u001b[0m 7ms/step - accuracy: 0.1915 - loss: 2.0377 - val_accuracy: 0.1960 - val_loss: 2.0341\n"
          ]
        },
        {
          "output_type": "execute_result",
          "data": {
            "text/plain": [
              "<keras.src.callbacks.history.History at 0x79a4126fcfa0>"
            ]
          },
          "metadata": {},
          "execution_count": 53
        }
      ]
    },
    {
      "cell_type": "markdown",
      "source": [
        "** Using ResNet**"
      ],
      "metadata": {
        "id": "4kDmWAgyNbJE"
      }
    },
    {
      "cell_type": "code",
      "source": [
        "from  tensorflow.keras import  Sequential, models, layers\n",
        "from tensorflow.keras.layers import Dense, Dropout, Flatten\n",
        "from tensorflow.keras.layers import BatchNormalization\n",
        "from  tensorflow.keras.models import load_model\n",
        "from  tensorflow.keras.models import Model\n",
        "from tensorflow.keras.applications.resnet50 import ResNet50\n",
        "from tensorflow.keras import optimizers"
      ],
      "metadata": {
        "id": "2s0j3o4LOHsc"
      },
      "execution_count": 54,
      "outputs": []
    },
    {
      "cell_type": "code",
      "source": [
        "Convolutional_base = ResNet50(weights='imagenet', include_top=False, input_shape=(256, 256, 3))"
      ],
      "metadata": {
        "id": "Z1nDsKyWNfic"
      },
      "execution_count": 56,
      "outputs": []
    },
    {
      "cell_type": "code",
      "source": [
        "num_of_classes = 10\n",
        "\n",
        "model =  models.Sequential()\n",
        "model.add(layers.UpSampling2D((2,2)))\n",
        "model.add(layers.UpSampling2D((2,2)))\n",
        "model.add(layers.UpSampling2D((2,2)))\n",
        "model.add(Convolutional_base)\n",
        "model.add(layers.Flatten())\n",
        "model.add(layers.BatchNormalization())\n",
        "model.add(layers.Dense(128, activation='relu'))\n",
        "model.add(layers.Dropout(0.5))\n",
        "model.add(layers.BatchNormalization())\n",
        "model.add(layers.Dense(64, activation='relu'))\n",
        "model.add(layers.Dropout(0.5))\n",
        "model.add(layers.BatchNormalization())\n",
        "model.add(layers.Dense(num_of_classes, activation='softmax'))"
      ],
      "metadata": {
        "id": "7tHQzki4TeEu"
      },
      "execution_count": 57,
      "outputs": []
    },
    {
      "cell_type": "code",
      "source": [
        "model.compile(optimizer=optimizers.RMSprop(learning_rate=2e-5), # Use learning_rate instead of lr\n",
        "              loss='sparse_categorical_crossentropy',\n",
        "              metrics=['accuracy'])"
      ],
      "metadata": {
        "id": "XmOZESJUUocS"
      },
      "execution_count": 59,
      "outputs": []
    },
    {
      "cell_type": "code",
      "source": [
        "history =model.fit(X_train_scaled, y_train,validation_split=.1, epochs=10)"
      ],
      "metadata": {
        "colab": {
          "base_uri": "https://localhost:8080/"
        },
        "id": "Yl77mtp7UsOv",
        "outputId": "f7f50673-2f16-44c5-b005-d5eabb144c1e"
      },
      "execution_count": null,
      "outputs": [
        {
          "output_type": "stream",
          "name": "stdout",
          "text": [
            "Epoch 1/10\n",
            "\u001b[1m 149/1125\u001b[0m \u001b[32m━━\u001b[0m\u001b[37m━━━━━━━━━━━━━━━━━━\u001b[0m \u001b[1m9:09:09\u001b[0m 34s/step - accuracy: 0.1671 - loss: 2.6094"
          ]
        }
      ]
    },
    {
      "cell_type": "code",
      "source": [
        "loss,accuracy = model.evaluate(X_test, y_test)"
      ],
      "metadata": {
        "id": "_0QpEGxSVf2z"
      },
      "execution_count": null,
      "outputs": []
    },
    {
      "cell_type": "code",
      "source": [
        "h = history\n",
        "\n",
        "#plot the loss value\n",
        "plt.plot(h.history['loss'], label='train loss')\n",
        "plt.plot(h.history['val_loss'], label='validation loss')\n",
        "plt.legend()\n",
        "plt.show()\n",
        "\n",
        "#plot the accuracy\n",
        "plt.plot(h.history['accuracy'], label='train accuracy')\n",
        "plt.plot(h.history['val_accuracy'], label='validation accuracy')\n",
        "plt.legend()\n",
        "plt.show()"
      ],
      "metadata": {
        "id": "zkP3KRGcVjNG"
      },
      "execution_count": null,
      "outputs": []
    }
  ]
}